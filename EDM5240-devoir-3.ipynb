{
 "cells": [
  {
   "cell_type": "code",
   "execution_count": 2,
   "metadata": {},
   "outputs": [],
   "source": [
    "import pandas as pd\n",
    "\n",
    "pd.set_option('display.max_columns', 500)\n",
    "\n",
    "grants = pd.read_csv(\"grants.csv\", low_memory=False)"
   ]
  },
  {
   "cell_type": "code",
   "execution_count": 3,
   "metadata": {},
   "outputs": [],
   "source": [
    "# 2. fait disparaître les colonnes avec des noms anglais\n",
    "grants = grants.drop(['federal_riding_name_en', 'prog_name_en', 'prog_purpose_en',  'agreement_title_en', 'description_en', 'expected_results_en', 'additional_information_en'], 1)"
   ]
  },
  {
   "cell_type": "code",
   "execution_count": 4,
   "metadata": {},
   "outputs": [],
   "source": [
    "# 3. Ce code donne des noms français\n",
    "grants = grants.rename(columns={'ref_number' : 'numéro référence', 'amendment_number' : 'numéro amendment', 'amendment_date': 'date amendement', 'agreement_type':'type d accord',\n",
    "       'recipient_type' : 'type de bénéficiaire', 'recipient_business_number' : 'numéro du bénéficiaire', 'recipient_legal_name' : 'nom_beneficiaire',\n",
    "       'recipient_operating_name' : 'nom d opération du bénéficiaire', 'research_organization_name' : 'nom de l organisation',\n",
    "       'recipient_country' : 'pays du bénéficiaire', 'recipient_province' : 'province', 'recipient_city' : 'ville du bénéficiaire',\n",
    "       'recipient_postal_code' : 'code postal du bénéficiaire', 'federal_riding_name_fr' : 'nom fédéral',\n",
    "       'federal_riding_number' : 'numéro fédéral', 'prog_name_fr' : 'nom_programme', 'prog_purpose_fr' : 'but du programme',\n",
    "       'agreement_title_fr' : 'nom de l entente', 'agreement_number' : 'numéro de l entente', 'agreement_value' : 'valeur_entente',\n",
    "       'foreign_currency_type' : 'monaie', 'foreign_currency_value' : 'valeur monaie',\n",
    "       'agreement_start_date' : 'début entente', 'agreement_end_date' : 'fin de l entente', 'coverage' : 'couverture',\n",
    "       'description_fr': 'description', 'naics_identifier' : 'naics identifieur', 'expected_results_fr' :'résultats attendus',\n",
    "       'additional_information_fr' : 'informations supplémentaires', 'owner_org' : 'propriétaire', 'owner_org_title': 'titre du propriétaire'})"
   ]
  },
  {
   "cell_type": "code",
   "execution_count": 5,
   "metadata": {},
   "outputs": [],
   "source": [
    "#4A. Cette partie du code enlève les signe de « $ » et les virgules afin de pouvoir mettre les données au format « float »\n",
    "grants['valeur_entente'] = grants.valeur_entente.str.replace('$', '')\n",
    "grants['valeur_entente'] = grants.valeur_entente.str.replace(',', '')"
   ]
  },
  {
   "cell_type": "code",
   "execution_count": 6,
   "metadata": {
    "collapsed": true
   },
   "outputs": [
    {
     "data": {
      "text/plain": [
       "0           567786.0\n",
       "1            39240.0\n",
       "2           761657.0\n",
       "3           259174.0\n",
       "4           312693.0\n",
       "5          1129294.0\n",
       "6           288197.0\n",
       "7           461816.0\n",
       "8           559325.0\n",
       "9           389687.0\n",
       "10           50000.0\n",
       "11         2138500.0\n",
       "12          376500.0\n",
       "13           69500.0\n",
       "14          971000.0\n",
       "15         3366500.0\n",
       "16          365291.0\n",
       "17          300500.0\n",
       "18           48750.0\n",
       "19           91931.0\n",
       "20         1811229.0\n",
       "21         6937485.0\n",
       "22         1943727.0\n",
       "23          600000.0\n",
       "24           26582.0\n",
       "25          158310.0\n",
       "26          124604.0\n",
       "27         1533275.0\n",
       "28         1097131.0\n",
       "29           74874.0\n",
       "             ...    \n",
       "228934       10000.0\n",
       "228935       10000.0\n",
       "228936      558000.0\n",
       "228937     1600000.0\n",
       "228938     5000000.0\n",
       "228939       15500.0\n",
       "228940     1650000.0\n",
       "228941       30000.0\n",
       "228942      558000.0\n",
       "228943       25000.0\n",
       "228944       30000.0\n",
       "228945      508000.0\n",
       "228946       25000.0\n",
       "228947       21085.0\n",
       "228948    23600000.0\n",
       "228949     1818649.0\n",
       "228950      257664.0\n",
       "228951     1550250.0\n",
       "228952       10000.0\n",
       "228953     1060000.0\n",
       "228954      400000.0\n",
       "228955      300000.0\n",
       "228956      188000.0\n",
       "228957      423184.0\n",
       "228958     1840000.0\n",
       "228959      764500.0\n",
       "228960      750000.0\n",
       "228961      230950.0\n",
       "228962     4200000.0\n",
       "228963     3465792.0\n",
       "Name: valeur_entente, Length: 228964, dtype: float64"
      ]
     },
     "execution_count": 6,
     "metadata": {},
     "output_type": "execute_result"
    }
   ],
   "source": [
    "# 4B. Cette partie transforme les données de « valeur_entente » en format float pour le calcul\n",
    "grants['valeur_entente'] = grants.valeur_entente.astype(float)\n",
    "grants.valeur_entente"
   ]
  },
  {
   "cell_type": "code",
   "execution_count": 7,
   "metadata": {
    "collapsed": true
   },
   "outputs": [
    {
     "data": {
      "text/plain": [
       "Jeunesse - Emplois d'été Canada                                                                                                                                                                                                  41900\n",
       "Formation en recherche et perfectionnement des compétences                                                                                                                                                                        9021\n",
       "0                                                                                                                                                                                                                                 4894\n",
       "Recherche axée sur la découverte                                                                                                                                                                                                  4521\n",
       "Jeunesse - Connexion compétences - Projet                                                                                                                                                                                         4293\n",
       "Bourses de recherche de 1er cycle en milieu universitaire                                                                                                                                                                         3439\n",
       "Partenariats de recherche                                                                                                                                                                                                         2745\n",
       "Programme De Développement Économique Du Québec (PDEQ)                                                                                                                                                                            2594\n",
       "Établissement                                                                                                                                                                                                                     2284\n",
       "Programme d’aide à la recherche industrielle – Contributions aux entreprises                                                                                                                                                      2264\n",
       "Programme de subventions à la découverte - individuelles                                                                                                                                                                          2157\n",
       "Éducation                                                                                                                                                                                                                         1815\n",
       "Fonds pour l'accessibilité - Subventions                                                                                                                                                                                          1636\n",
       "Bourses Expérience                                                                                                                                                                                                                1389\n",
       "Recherche axée sur la connaissance                                                                                                                                                                                                1217\n",
       "Infrastructure communautaire                                                                                                                                                                                                      1199\n",
       "Subventions d'engagement partenarial pour les universités                                                                                                                                                                         1137\n",
       "Développement social                                                                                                                                                                                                              1106\n",
       "Programme Croissance Des Entreprises Et Des Régions (DEC-Croissance)                                                                                                                                                              1016\n",
       "Appui aux gouvernements Indiens                                                                                                                                                                                                    942\n",
       "Programme d’aide à la recherche industrielle – Programme emploi jeunesse - Vert                                                                                                                                                    879\n",
       "Fonds du Canada pour les périodiques                                                                                                                                                                                               824\n",
       "Bourse d'études supérieures du Canada Alexander-Graham-Bell M                                                                                                                                                                      790\n",
       "Subventions Savoir                                                                                                                                                                                                                 726\n",
       "Bourses d'études supérieures du Canada Joseph-Armand-Bombardier - Maîtrise                                                                                                                                                         684\n",
       "Programme Innovation, Développement De L'Entrepreneurship Et Exportation Destiné Aux Pme (IDÉE-PME)                                                                                                                                631\n",
       "Programmes d'investissement pour fermes laitières (PIFL)                                                                                                                                                                           597\n",
       "Programme Diversification Des Collectivités (DEC-Diversification)                                                                                                                                                                  596\n",
       "SPLI-Collectivités désignées-Respons. partagée                                                                                                                                                                                     561\n",
       "Programme D'Infrastructure Communautaire De Canada 150 (PDEQ-PIC150 )                                                                                                                                                              539\n",
       "                                                                                                                                                                                                                                 ...  \n",
       "Programme de subvention globale  (PSG) du Système national de repérage (SNR)                                                                                                                                                         1\n",
       "Développement Économique, Appui aux gouvernements Indiens, Infrastructure communautaire                                                                                                                                              1\n",
       "DGSPNI - Promotion de la santé et prévention des maladies, DGSPNI - Prestations supplémentaires en santé, DGSPNI - Protection de la santé publique, DGSPNI - Capacité du système de santé, DGSPNI - Soins primaires                  1\n",
       "Traités et Gouvernement autochtone, Infrastructure communautaire, Développement Économique, Éducation, Gestion des Terres                                                                                                            1\n",
       "DGSPNI - Prestations supplémentaires en santé, DGSPNI - Promotion de la santé et prévention des maladies, DGSPNI - Soins primaires                                                                                                   1\n",
       "DGSPNI - Capacité du système de santé, DGSPNI - Soins primaires, DGSPNI - Prestations supplémentaires en santé, DGSPNI - Protection de la santé publique                                                                             1\n",
       "Affaires du Nord, Appui aux gouvernements Indiens, Développement social                                                                                                                                                              1\n",
       "PROGRAMME DE PLACEMENT ET DE SURVEILLANCE DANS LE CADRE D’UN PROGRAMME INTENSIF DE RÉADAPTATION                                                                                                                                      1\n",
       "DPDCLI -Système d'information national sur l'itinérance (SINI)                                                                                                                                                                       1\n",
       "Inscriptions des Indiens, Infrastructure communautaire, Développement social                                                                                                                                                         1\n",
       "Collectivités éloignées-Respons. partagée                                                                                                                                                                                            1\n",
       "Programme Innovation, Développement De L'Entrepreneurship Et Exportation Destiné Aux Pme - Initiative Fédérale D'Appui Au Développement De La Technorégion Québec/Chaudière-Appalaches (Fonds Technorégion) (IDÉE-PME (TRCA))        1\n",
       "Gestion des Terres, Gouvernance et Institutions Gouvernementales, Infrastructure communautaire, Développement Économique                                                                                                             1\n",
       "Affaires Internationals et Intergouvernemental du travail                                                                                                                                                                            1\n",
       "Le Programme d'éducation de base des adultes du Nord                                                                                                                                                                                 1\n",
       "DGSPNI - Protection de la santé publique, DGSPNI - Transformation du système de santé                                                                                                                                                1\n",
       "Infrastructure communautaire, Développement social, Santé Canada, Éducation                                                                                                                                                          1\n",
       "DGSPNI - Prestations supplémentaires en santé, DGSPNI - Soins primaires, DGSPNI - Promotion de la santé et prévention des maladies, DGSPNI - Capacité du système de santé                                                            1\n",
       "Appui aux gouvernements Indiens, Traités et Gouvernement autochtone, Infrastructure communautaire, Développement Économique                                                                                                          1\n",
       "Infrastructure communautaire, Traités et Gouvernement autochtone, Éducation                                                                                                                                                          1\n",
       "DGSPNI - Prestations supplémentaires en santé, DGSPNI - Promotion de la santé et prévention des maladies, DGSPNI - Soins primaires, DGSPNI - Transformation du système de santé                                                      1\n",
       "DGSPNI - Promotion de la santé et prévention des maladies, DGSPNI - Soins primaires, DGSPNI - Prestations supplémentaires en santé, DGSPNI - Transformation du système de santé                                                      1\n",
       "DGSPNI - Prestations supplémentaires en santé, DGSPNI - Promotion de la santé et prévention des maladies, DGSPNI - Protection de la santé publique                                                                                   1\n",
       "Programme national de contribution en matière d'infrastructure                                                                                                                                                                       1\n",
       "Initiative De Développement Économique De La Feuille De Route Sur La Dualité Linguistique Canadienne (IDE-CER-Initiative dével. écon.)                                                                                               1\n",
       "Inscriptions des Indiens, Développement Économique, Développement social                                                                                                                                                             1\n",
       "Programme de contribution pour les coûts extraordinaire des services de police de la capitale nationale                                                                                                                              1\n",
       "DGSPNI - Capacité du système de santé, DGSPNI - Soins primaires, DGSPNI - Protection de la santé publique, DGSPNI - Promotion de la santé et prévention des maladies                                                                 1\n",
       "l’Initiative de revitalisation du secteur riverain de Toronto                                                                                                                                                                        1\n",
       "Développement social, Traités et Gouvernement autochtone, Éducation                                                                                                                                                                  1\n",
       "Name: nom_programme, Length: 1122, dtype: int64"
      ]
     },
     "execution_count": 7,
     "metadata": {},
     "output_type": "execute_result"
    }
   ],
   "source": [
    "#5. Cette partie permet de faire la liste de tous les programmes (avec leur nombre d'occurence)\n",
    "grants.nom_programme.value_counts()"
   ]
  },
  {
   "cell_type": "code",
   "execution_count": 8,
   "metadata": {},
   "outputs": [],
   "source": [
    "#6. Cette partie de code trouve les lignes avec Jeunesse comme programme. L'autre ligne permet de voir un dataframe avec seulement les informations de ce programme.\n",
    "jeune = grants['nom_programme'] == \"Jeunesse - Emplois d'été Canada\"\n",
    "jeuneData = grants[jeune]"
   ]
  },
  {
   "cell_type": "code",
   "execution_count": 9,
   "metadata": {},
   "outputs": [],
   "source": [
    "#7. Cette partie crée une liste des entreprises \n",
    "beneficiaires = jeuneData.groupby('nom_beneficiaire').valeur_entente.sum().sort_values(ascending=False)\n"
   ]
  },
  {
   "cell_type": "code",
   "execution_count": 10,
   "metadata": {
    "collapsed": true
   },
   "outputs": [
    {
     "data": {
      "text/plain": [
       "province\n",
       "ON    33.811507\n",
       "QC    19.998314\n",
       "BC    10.938430\n",
       "AB     9.028745\n",
       "NL     4.676848\n",
       "NB     2.849141\n",
       "NS     2.430194\n",
       "MB     2.250209\n",
       "SK     1.556244\n",
       "PE     0.478999\n",
       "NT     0.172402\n",
       "YT     0.127042\n",
       "NU     0.053223\n",
       "Name: valeur_entente, dtype: float64"
      ]
     },
     "execution_count": 10,
     "metadata": {},
     "output_type": "execute_result"
    }
   ],
   "source": [
    "#8. Ce code calcule le classement (en pourcentage) de chaque province en terme d'argent reçu du programme « Jeunesse - Emplois d'été Canada »\n",
    "provinceFinance = jeuneData.groupby('province').valeur_entente.sum().sort_values(ascending=False)\n",
    "provinceFinance / (jeuneData.valeur_entente.sum())*100"
   ]
  },
  {
   "cell_type": "code",
   "execution_count": null,
   "metadata": {},
   "outputs": [],
   "source": []
  }
 ],
 "metadata": {
  "kernelspec": {
   "display_name": "Python 3",
   "language": "python",
   "name": "python3"
  },
  "language_info": {
   "codemirror_mode": {
    "name": "ipython",
    "version": 3
   },
   "file_extension": ".py",
   "mimetype": "text/x-python",
   "name": "python",
   "nbconvert_exporter": "python",
   "pygments_lexer": "ipython3",
   "version": "3.7.1"
  }
 },
 "nbformat": 4,
 "nbformat_minor": 2
}
